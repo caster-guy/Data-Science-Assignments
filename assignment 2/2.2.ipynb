{
 "cells": [
  {
   "cell_type": "code",
   "execution_count": 1,
   "metadata": {},
   "outputs": [],
   "source": [
    "my_file = open('test.txt', 'w')\n",
    "my_file.write('hello world \\n'* 5 )\n",
    "my_file.close()"
   ]
  },
  {
   "cell_type": "code",
   "execution_count": 5,
   "metadata": {},
   "outputs": [
    {
     "name": "stdout",
     "output_type": "stream",
     "text": [
      "hello world \n",
      "hello world \n",
      "hello world \n",
      "hello world \n",
      "hello world \n",
      "\n",
      "HELLO WORLD \n",
      "HELLO WORLD \n",
      "HELLO WORLD \n",
      "HELLO WORLD \n",
      "HELLO WORLD \n",
      "\n"
     ]
    }
   ],
   "source": [
    "my_file = open('test.txt', 'r+')\n",
    "x = my_file.read()\n",
    "print(x)\n",
    "print(x.upper())\n",
    "my_file.write(x.upper())\n",
    "my_file.close()"
   ]
  },
  {
   "cell_type": "code",
   "execution_count": 6,
   "metadata": {},
   "outputs": [
    {
     "name": "stdout",
     "output_type": "stream",
     "text": [
      "hello world \n",
      "\n",
      "Hello world \n",
      "\n"
     ]
    }
   ],
   "source": [
    "my_file = open('test.txt', 'r+')\n",
    "my_lines = my_file.readlines()\n",
    "print(my_lines[2])\n",
    "m = my_lines[2].capitalize()\n",
    "print(m)\n",
    "my_file.close()"
   ]
  },
  {
   "cell_type": "code",
   "execution_count": 7,
   "metadata": {},
   "outputs": [],
   "source": [
    "with open('test.txt', 'a+') as my_file:\n",
    "    my_file.write('I Love python')"
   ]
  }
 ],
 "metadata": {
  "kernelspec": {
   "display_name": "Python 3",
   "language": "python",
   "name": "python3"
  },
  "language_info": {
   "codemirror_mode": {
    "name": "ipython",
    "version": 3
   },
   "file_extension": ".py",
   "mimetype": "text/x-python",
   "name": "python",
   "nbconvert_exporter": "python",
   "pygments_lexer": "ipython3",
   "version": "3.9.0"
  }
 },
 "nbformat": 4,
 "nbformat_minor": 4
}
