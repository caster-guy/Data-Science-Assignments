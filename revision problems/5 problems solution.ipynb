{
 "metadata": {
  "language_info": {
   "codemirror_mode": {
    "name": "ipython",
    "version": 3
   },
   "file_extension": ".py",
   "mimetype": "text/x-python",
   "name": "python",
   "nbconvert_exporter": "python",
   "pygments_lexer": "ipython3",
   "version": "3.7.6-final"
  },
  "orig_nbformat": 2,
  "kernelspec": {
   "name": "python3",
   "display_name": "Python 3",
   "language": "python"
  }
 },
 "nbformat": 4,
 "nbformat_minor": 2,
 "cells": [
  {
   "source": [
    "# Python Program to Add Two Matrices"
   ],
   "cell_type": "markdown",
   "metadata": {}
  },
  {
   "cell_type": "code",
   "execution_count": null,
   "metadata": {},
   "outputs": [],
   "source": [
    "# sum of two matrices\n",
    "import numpy as np\n",
    "m = []\n",
    "n = []\n",
    "# both matrices must have the same dimensions\n",
    "x = int(input(f\"enter your matrix number of rows \"))\n",
    "y = int(input(f\"enter your matrix number of columns \"))           \n",
    "for k in range(1,3) :\n",
    "    for i in range(x) :\n",
    "        for j in range(y) :\n",
    "            while True : \n",
    "                z = int(input(f\"enter the {i} , {j}  element of the {k} st matrix \"))\n",
    "                if (z >= 0 or z < 0) and k == 1 :\n",
    "                    m.append(z)\n",
    "                    break\n",
    "                elif (z >= 0 or z < 0) and k == 2 :\n",
    "                    n.append(z)\n",
    "                    break\n",
    "                else :\n",
    "                    print(\"wrong enter ,please try again\")\n",
    "    if k == 1 :              \n",
    "        arr1 = np.array(m)\n",
    "        matrix1 = arr1.reshape(x, y)\n",
    "    elif k == 2 :\n",
    "        arr2 = np.array(n)\n",
    "        matrix2 = arr2.reshape(x, y)  \n",
    "sum = matrix1 + matrix2\n",
    "print(sum)"
   ]
  },
  {
   "source": [
    "# Python Program to Multiply Two Matrices"
   ],
   "cell_type": "markdown",
   "metadata": {}
  },
  {
   "cell_type": "code",
   "execution_count": null,
   "metadata": {},
   "outputs": [],
   "source": [
    "# product of two matrices\n",
    "import numpy as np\n",
    "m = []\n",
    "n = []\n",
    "for k in range(1,3) :\n",
    "# هنا هتحتاج تتاكد الاول من توافق الاتنين ماتريكس الاول قبل ما تضربهم\n",
    "\n",
    "    while True :\n",
    "        x = int(input(f\"enter your {k} ST matrix number of rows \"))\n",
    "        y = int(input(f\"enter your {k} ST matrix number of columns \"))\n",
    "        if k == 1 :\n",
    "            d1 = [x , y]\n",
    "            break\n",
    "        elif k == 2 :\n",
    "            d2 = [x , y]\n",
    "            if d1[1] == d2[0] :\n",
    "                break\n",
    "            else :\n",
    "                print(\"wrong dimensions ,please try again\")\n",
    "\n",
    "            \n",
    "    for i in range(x) :\n",
    "        for j in range(y) :\n",
    "            while True : \n",
    "                z = int(input(f\"enter the {i} , {j}  element \"))\n",
    "                if ( z >= 0 or z < 0 ) and k == 1 :\n",
    "                    m.append(z)\n",
    "                    break\n",
    "                elif ( z >= 0 or z < 0 ) and k == 2 :\n",
    "                    n.append(z)\n",
    "                    break\n",
    "                else :\n",
    "                    print(\"wrong enter ,please try again\")\n",
    "    if k == 1 :              \n",
    "        arr1 = np.array(m)\n",
    "        matrix1 = arr1.reshape(x, y)\n",
    "    elif k == 2 :\n",
    "        arr2 = np.array(n)\n",
    "        matrix2 = arr2.reshape(x, y)\n",
    "\n",
    "product = np.dot(matrix1 , matrix2)\n",
    "print(product)"
   ]
  },
  {
   "source": [
    "# Python Program to Remove Punctuations From a String"
   ],
   "cell_type": "markdown",
   "metadata": {}
  },
  {
   "cell_type": "code",
   "execution_count": null,
   "metadata": {},
   "outputs": [],
   "source": [
    "# remove punct\n",
    "import string\n",
    "x = input(\"enter your word \")\n",
    "punct = list(string.punctuation)\n",
    "z = list(x)\n",
    "i = 0\n",
    "while  i < len(z) :\n",
    "    if z[i] in punct :\n",
    "        del z[i]\n",
    "        i = 0\n",
    "    else :\n",
    "        i = i + 1    \n",
    "print(\"\".join(z))"
   ]
  },
  {
   "source": [
    "# Python Program to Find Armstrong Number in an Interval"
   ],
   "cell_type": "markdown",
   "metadata": {}
  },
  {
   "cell_type": "code",
   "execution_count": null,
   "metadata": {},
   "outputs": [],
   "source": [
    "#armstrong in interval\n",
    "x = int(input(\"enter the first number of the interval \"))\n",
    "h = int(input(\"enter the final number of the interval \"))\n",
    "\n",
    "for k in range( x , h+1 ) :\n",
    "    y = []\n",
    "    z = list(str(k))\n",
    "    for i in range(len(z)):\n",
    "        m = (int(z[i])) ** (len(z))\n",
    "        y.append(m)\n",
    "\n",
    "    if (sum(y) == k ) :\n",
    "        print(k)"
   ]
  },
  {
   "source": [
    "# Python Program to Count the Number of Each Vowel"
   ],
   "cell_type": "markdown",
   "metadata": {}
  },
  {
   "cell_type": "code",
   "execution_count": null,
   "metadata": {},
   "outputs": [],
   "source": [
    "# number of each vowel\n",
    "vowels = [\"A\" , \"E\" , 'O' , 'I' , 'U' , 'a' , 'e' , 'o' , 'i' , 'u']\n",
    "vowel = []\n",
    "ind = []\n",
    "x = input(\"enter your syntax \")\n",
    "z = list(x)\n",
    "for i in range(len(z)) :\n",
    "    if z[i] in vowels :\n",
    "        vowel.append(z[i])\n",
    "        ind.append(i)\n",
    "\n",
    "final = list(zip(vowel, ind))\n",
    "print(final)    "
   ]
  }
 ]
}