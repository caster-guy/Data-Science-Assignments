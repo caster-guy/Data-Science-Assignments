{
 "cells": [
  {
   "cell_type": "code",
   "execution_count": 1,
   "metadata": {},
   "outputs": [],
   "source": [
    "import os\n",
    "import random\n",
    "import string"
   ]
  },
  {
   "cell_type": "code",
   "execution_count": 2,
   "metadata": {},
   "outputs": [],
   "source": [
    "def rename_files():\n",
    "    thanos = os.listdir('thanos')\n",
    "    m = list(string.ascii_lowercase) + list(string.ascii_uppercase) + list(range(10))\n",
    "    \n",
    "    l = 0\n",
    "    \n",
    "    for i in thanos :\n",
    "        \n",
    "        # to change pic name with any format\n",
    "        z = thanos[l].split('.')\n",
    "        k = z[len(z)-1] \n",
    "        \n",
    "        x = []\n",
    "        \n",
    "        while len(x) < 5:\n",
    "            x.append(str(random.choice(m)))\n",
    "            \n",
    "            \n",
    "            \n",
    "        j = ''.join(x)                \n",
    "        os.rename('thanos/'+i, 'thanos/'+j+'.'+k)\n",
    "        \n",
    "        l = l + 1"
   ]
  },
  {
   "cell_type": "code",
   "execution_count": 3,
   "metadata": {},
   "outputs": [],
   "source": [
    "rename_files()"
   ]
  }
 ],
 "metadata": {
  "kernelspec": {
   "display_name": "Python 3",
   "language": "python",
   "name": "python3"
  },
  "language_info": {
   "codemirror_mode": {
    "name": "ipython",
    "version": 3
   },
   "file_extension": ".py",
   "mimetype": "text/x-python",
   "name": "python",
   "nbconvert_exporter": "python",
   "pygments_lexer": "ipython3",
   "version": "3.9.0"
  }
 },
 "nbformat": 4,
 "nbformat_minor": 4
}
